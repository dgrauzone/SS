{
  "nbformat": 4,
  "nbformat_minor": 0,
  "metadata": {
    "colab": {
      "provenance": [],
      "authorship_tag": "ABX9TyPMg8Y/bpTMy8PE674rfaRL",
      "include_colab_link": true
    },
    "kernelspec": {
      "name": "python3",
      "display_name": "Python 3"
    },
    "language_info": {
      "name": "python"
    }
  },
  "cells": [
    {
      "cell_type": "markdown",
      "metadata": {
        "id": "view-in-github",
        "colab_type": "text"
      },
      "source": [
        "<a href=\"https://colab.research.google.com/github/dgrauzone/SS/blob/main/DerivadaNum%C3%A9rica.ipynb\" target=\"_parent\"><img src=\"https://colab.research.google.com/assets/colab-badge.svg\" alt=\"Open In Colab\"/></a>"
      ]
    },
    {
      "cell_type": "markdown",
      "source": [
        "##Bibliotecas"
      ],
      "metadata": {
        "id": "aFmm44AzlTu2"
      }
    },
    {
      "cell_type": "code",
      "source": [
        "import numpy as np\n",
        "import matplotlib.pyplot as plt\n",
        "import mpl_toolkits\n",
        "from mpl_toolkits.mplot3d import Axes3D\n",
        "from ipywidgets import interact, widgets\n",
        "import time\n",
        "import random\n",
        "import re\n",
        "import math"
      ],
      "metadata": {
        "id": "sIv4cUgQOcGz"
      },
      "execution_count": 84,
      "outputs": []
    },
    {
      "cell_type": "markdown",
      "source": [
        "## Evaluación de las funciones"
      ],
      "metadata": {
        "id": "CG96RWri17M6"
      }
    },
    {
      "cell_type": "code",
      "source": [
        "################\n",
        "# CODIGO BUENO #\n",
        "\n",
        "def entrada():\n",
        "  # Solicitsr al usuario que ingrese la función\n",
        "  funcion = input(\"Por favor, ingresa la función que deseas analizar: \")\n",
        "\n",
        "  # Lista de funciones que queremos identificar y modificar\n",
        "  funciones_a_modificar = ['sin', 'cos', 'tan', 'exp', 'log']\n",
        "\n",
        "  # Expresión regular para buscar estas funciones en el texto\n",
        "  patron = '|'.join(funciones_a_modificar)\n",
        "\n",
        "  # Encontrar todas las coincidencias en el txto\n",
        "  coincidencias = re.findall(patron, funcion)\n",
        "\n",
        "\n",
        "  # Modificar la función para agregar el prefijo math.\n",
        "  fm = funcion\n",
        "  for func in coincidencias:\n",
        "      fm = fm.replace(func, f\"math.{func}\")\n",
        "\n",
        "  # Mostrar la función modificada\n",
        "  print(\"La función modificada con prefijo 'math.' es:\", fm)\n",
        "  return fm\n",
        "\n",
        "fm = entrada()"
      ],
      "metadata": {
        "colab": {
          "base_uri": "https://localhost:8080/"
        },
        "id": "sQFe65ruzgDM",
        "outputId": "ab512ba3-1791-40d9-aa27-82ebf20c42de"
      },
      "execution_count": 126,
      "outputs": [
        {
          "output_type": "stream",
          "name": "stdout",
          "text": [
            "Por favor, ingresa la función que deseas analizar: cos(exp(y)+x)\n",
            "La función modificada con prefijo 'math.' es: math.cos(math.exp(y)+x)\n"
          ]
        }
      ]
    },
    {
      "cell_type": "code",
      "source": [
        "def F(x,y):\n",
        "\n",
        "  # Evaluar la función en el punto dado\n",
        "  resultado = eval(fm)\n",
        "\n",
        "  # Mostrar el resultado\n",
        "  print(\"El resultado de evaluar la función en (x,y) = \",\"(\",x,\",\",y,\")\",\" es:\", resultado)\n",
        "\n",
        "  return resultado\n",
        "\n",
        "\n",
        "F(0,0)"
      ],
      "metadata": {
        "colab": {
          "base_uri": "https://localhost:8080/"
        },
        "id": "vjAMmxQLxx6t",
        "outputId": "485045c4-2d5e-4029-9cbb-44d3f7e7ff33"
      },
      "execution_count": 127,
      "outputs": [
        {
          "output_type": "stream",
          "name": "stdout",
          "text": [
            "El resultado de evaluar la función en (x,y) =  ( 0 , 0 )  es: 0.5403023058681398\n"
          ]
        },
        {
          "output_type": "execute_result",
          "data": {
            "text/plain": [
              "0.5403023058681398"
            ]
          },
          "metadata": {},
          "execution_count": 127
        }
      ]
    },
    {
      "cell_type": "markdown",
      "source": [
        "## Derivadas"
      ],
      "metadata": {
        "id": "xn2QKny0p5gg"
      }
    },
    {
      "cell_type": "code",
      "source": [
        "##########\n",
        "# Para las derivadas parciales\n",
        "\n",
        "# Primero tenemos a nuestra función y la definimos\n",
        "def dP(x,y,delta):\n",
        "  '''\n",
        "  Esta función recibe una pareja de variables, un vector en R^2 y le aplica la función definida.\n",
        "\n",
        "  inputs:\n",
        "  X: lista de dimensión n: variables (vector en R^n)\n",
        "\n",
        "  outputs:\n",
        "\n",
        "  '''\n",
        "  return ((F(x+delta,y)-F(x,y))/(delta),(F(x,y+delta)-F(x,y))/(delta))\n",
        "dP(1,1,0.00001)"
      ],
      "metadata": {
        "colab": {
          "base_uri": "https://localhost:8080/"
        },
        "id": "yLdHZ61Cqzxw",
        "outputId": "61c9cc71-4096-4e15-a9f0-24873f4ac763"
      },
      "execution_count": 128,
      "outputs": [
        {
          "output_type": "stream",
          "name": "stdout",
          "text": [
            "El resultado de evaluar la función en (x,y) =  ( 1.00001 , 1 )  es: -0.8382670210002441\n",
            "El resultado de evaluar la función en (x,y) =  ( 1 , 1 )  es: -0.8382724735577245\n",
            "El resultado de evaluar la función en (x,y) =  ( 1 , 1.00001 )  es: -0.8382576516999284\n",
            "El resultado de evaluar la función en (x,y) =  ( 1 , 1 )  es: -0.8382724735577245\n"
          ]
        },
        {
          "output_type": "execute_result",
          "data": {
            "text/plain": [
              "(0.5452557480412068, 1.4821857796110114)"
            ]
          },
          "metadata": {},
          "execution_count": 128
        }
      ]
    },
    {
      "cell_type": "code",
      "source": [
        "!git clone https://github.com/jugernaut/Numerico2021.git\n",
        "import Numerico2021.Utils.gutils as vis\n",
        "\n",
        "\n",
        "\n",
        "class planoCartesiano():\n",
        "\n",
        "    def __init__(self, rows = 1, cols = 1, par = None, par_fig={'figsize':(10,5)}, title=''):\n",
        "        \"\"\"\n",
        "        Crea e inicializa una figura de matplotlib.\n",
        "        Parameters\n",
        "        ----------\n",
        "        rows : int, opcional\n",
        "            Número de renglones del arreglo de subplots. The default is 1.\n",
        "        cols : int, opcional\n",
        "            Número de columnas del arreglo de subplots. The default is 1.\n",
        "        par : list of dicts, opcional\n",
        "            Lista de diccionarios; cada diccionario define los parámetros que\n",
        "            se usarán decorar los `Axes` de cada subplot. The default is None.\n",
        "        par_fig : dict, opcional\n",
        "            Diccionario con los parámetros para decorar la figura.\n",
        "            The default is {}.\n",
        "        \"\"\"\n",
        "        self.__fig = plt.figure(**par_fig)\n",
        "        self.__fig.suptitle(title, fontweight='light', fontsize='12', color='blue')\n",
        "        self.__nfigs =  rows *  cols\n",
        "\n",
        "        import matplotlib\n",
        "        self.__mpl_ver = matplotlib.__version__.split(sep='.')\n",
        "\n",
        "        if par != None:\n",
        "            Nfill = self.__nfigs - len(par)\n",
        "        else:\n",
        "            Nfill = self.__nfigs\n",
        "            par = [ ]\n",
        "\n",
        "        [par.append({}) for n in range(Nfill)]\n",
        "\n",
        "        self.__ax = [plt.subplot(rows, cols, n, **par[n-1]) for n in range(1,self.__nfigs + 1)]\n",
        "        plt.tight_layout()"
      ],
      "metadata": {
        "id": "fbQ7ewOMqbgH"
      },
      "execution_count": null,
      "outputs": []
    },
    {
      "cell_type": "code",
      "source": [
        "import numpy as np\n",
        "#from mpl_toolkits.mplot3d import Axes3D\n",
        "import matplotlib.pyplot as plt\n",
        "plt.style.use('fivethirtyeight')\n",
        "#plt.style.use('seaborn')\n",
        "\n",
        "\n",
        "\n",
        "def plot(self, n = 1, x = None, y = None, par=None):\n",
        "        assert (n >= 1 and n <= self.__nfigs), \\\n",
        "        \"Plotter.plot(%d) out of bounds. Valid bounds : [1,%d]\" % (n,self.__nfigs)\n",
        "\n",
        "        if par != None:\n",
        "            out = self.__ax[n-1].plot(x, y, **par)\n",
        "        else:\n",
        "            out = self.__ax[n-1].plot(x, y)\n",
        "\n",
        "        return out"
      ],
      "metadata": {
        "id": "WM_ZO2qjp5rT"
      },
      "execution_count": 14,
      "outputs": []
    }
  ]
}